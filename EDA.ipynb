{
 "cells": [
  {
   "cell_type": "code",
   "execution_count": 7,
   "metadata": {},
   "outputs": [],
   "source": [
    "import matplotlib.pyplot as plt\n",
    "import pandas as pd"
   ]
  },
  {
   "cell_type": "code",
   "execution_count": 8,
   "metadata": {},
   "outputs": [
    {
     "data": {
      "application/vnd.microsoft.datawrangler.viewer.v0+json": {
       "columns": [
        {
         "name": "index",
         "rawType": "int64",
         "type": "integer"
        },
        {
         "name": "id",
         "rawType": "int64",
         "type": "integer"
        },
        {
         "name": "image_id",
         "rawType": "object",
         "type": "string"
        }
       ],
       "ref": "f2ae5b41-88ff-4983-84bc-9755448822a4",
       "rows": [
        [
         "0",
         "1",
         "00000865_006.png"
        ],
        [
         "1",
         "2",
         "00028383_002.png"
        ],
        [
         "2",
         "3",
         "00027577_003.png"
        ],
        [
         "3",
         "4",
         "00000468_033.png"
        ],
        [
         "4",
         "5",
         "00013922_021.png"
        ]
       ],
       "shape": {
        "columns": 2,
        "rows": 5
       }
      },
      "text/html": [
       "<div>\n",
       "<style scoped>\n",
       "    .dataframe tbody tr th:only-of-type {\n",
       "        vertical-align: middle;\n",
       "    }\n",
       "\n",
       "    .dataframe tbody tr th {\n",
       "        vertical-align: top;\n",
       "    }\n",
       "\n",
       "    .dataframe thead th {\n",
       "        text-align: right;\n",
       "    }\n",
       "</style>\n",
       "<table border=\"1\" class=\"dataframe\">\n",
       "  <thead>\n",
       "    <tr style=\"text-align: right;\">\n",
       "      <th></th>\n",
       "      <th>id</th>\n",
       "      <th>image_id</th>\n",
       "    </tr>\n",
       "  </thead>\n",
       "  <tbody>\n",
       "    <tr>\n",
       "      <th>0</th>\n",
       "      <td>1</td>\n",
       "      <td>00000865_006.png</td>\n",
       "    </tr>\n",
       "    <tr>\n",
       "      <th>1</th>\n",
       "      <td>2</td>\n",
       "      <td>00028383_002.png</td>\n",
       "    </tr>\n",
       "    <tr>\n",
       "      <th>2</th>\n",
       "      <td>3</td>\n",
       "      <td>00027577_003.png</td>\n",
       "    </tr>\n",
       "    <tr>\n",
       "      <th>3</th>\n",
       "      <td>4</td>\n",
       "      <td>00000468_033.png</td>\n",
       "    </tr>\n",
       "    <tr>\n",
       "      <th>4</th>\n",
       "      <td>5</td>\n",
       "      <td>00013922_021.png</td>\n",
       "    </tr>\n",
       "  </tbody>\n",
       "</table>\n",
       "</div>"
      ],
      "text/plain": [
       "   id          image_id\n",
       "0   1  00000865_006.png\n",
       "1   2  00028383_002.png\n",
       "2   3  00027577_003.png\n",
       "3   4  00000468_033.png\n",
       "4   5  00013922_021.png"
      ]
     },
     "execution_count": 8,
     "metadata": {},
     "output_type": "execute_result"
    }
   ],
   "source": [
    "df = pd.read_csv(\"data/ID_to_Image_Mapping.csv\")\n",
    "df.head()"
   ]
  },
  {
   "cell_type": "code",
   "execution_count": 9,
   "metadata": {},
   "outputs": [
    {
     "name": "stdout",
     "output_type": "stream",
     "text": [
      "size test dataset (148, 2)\n"
     ]
    }
   ],
   "source": [
    "print(\"size test dataset\", df.shape)"
   ]
  },
  {
   "cell_type": "code",
   "execution_count": 10,
   "metadata": {},
   "outputs": [
    {
     "data": {
      "application/vnd.microsoft.datawrangler.viewer.v0+json": {
       "columns": [
        {
         "name": "index",
         "rawType": "int64",
         "type": "integer"
        },
        {
         "name": "Image Index",
         "rawType": "object",
         "type": "string"
        },
        {
         "name": "Finding Label",
         "rawType": "object",
         "type": "string"
        },
        {
         "name": "Bbox [x",
         "rawType": "float64",
         "type": "float"
        },
        {
         "name": "y",
         "rawType": "float64",
         "type": "float"
        },
        {
         "name": "w",
         "rawType": "float64",
         "type": "float"
        },
        {
         "name": "h]",
         "rawType": "float64",
         "type": "float"
        }
       ],
       "ref": "e5dc03a9-a15b-422a-84e0-4f7feb622d78",
       "rows": [
        [
         "0",
         "00021840_016.png",
         "Infiltrate",
         "160.995555555556",
         "440.642378472222",
         "268.515555555556",
         "187.733333333333"
        ],
        [
         "1",
         "00021364_001.png",
         "Cardiomegaly",
         "335.728813559322",
         "450.476843882415",
         "495.728813559322",
         "305.898305084746"
        ],
        [
         "2",
         "00018865_008.png",
         "Pneumothorax",
         "209.92",
         "133.442378472222",
         "144.497777777778",
         "92.16"
        ],
        [
         "3",
         "00029502_006.png",
         "Effusion",
         "148.45291005291",
         "452.943915343915",
         "256.812698412698",
         "393.346031746032"
        ],
        [
         "4",
         "00016705_006.png",
         "Infiltrate",
         "691.2",
         "308.66015625",
         "95.5733333333333",
         "237.795555555556"
        ]
       ],
       "shape": {
        "columns": 6,
        "rows": 5
       }
      },
      "text/html": [
       "<div>\n",
       "<style scoped>\n",
       "    .dataframe tbody tr th:only-of-type {\n",
       "        vertical-align: middle;\n",
       "    }\n",
       "\n",
       "    .dataframe tbody tr th {\n",
       "        vertical-align: top;\n",
       "    }\n",
       "\n",
       "    .dataframe thead th {\n",
       "        text-align: right;\n",
       "    }\n",
       "</style>\n",
       "<table border=\"1\" class=\"dataframe\">\n",
       "  <thead>\n",
       "    <tr style=\"text-align: right;\">\n",
       "      <th></th>\n",
       "      <th>Image Index</th>\n",
       "      <th>Finding Label</th>\n",
       "      <th>Bbox [x</th>\n",
       "      <th>y</th>\n",
       "      <th>w</th>\n",
       "      <th>h]</th>\n",
       "    </tr>\n",
       "  </thead>\n",
       "  <tbody>\n",
       "    <tr>\n",
       "      <th>0</th>\n",
       "      <td>00021840_016.png</td>\n",
       "      <td>Infiltrate</td>\n",
       "      <td>160.995556</td>\n",
       "      <td>440.642378</td>\n",
       "      <td>268.515556</td>\n",
       "      <td>187.733333</td>\n",
       "    </tr>\n",
       "    <tr>\n",
       "      <th>1</th>\n",
       "      <td>00021364_001.png</td>\n",
       "      <td>Cardiomegaly</td>\n",
       "      <td>335.728814</td>\n",
       "      <td>450.476844</td>\n",
       "      <td>495.728814</td>\n",
       "      <td>305.898305</td>\n",
       "    </tr>\n",
       "    <tr>\n",
       "      <th>2</th>\n",
       "      <td>00018865_008.png</td>\n",
       "      <td>Pneumothorax</td>\n",
       "      <td>209.920000</td>\n",
       "      <td>133.442378</td>\n",
       "      <td>144.497778</td>\n",
       "      <td>92.160000</td>\n",
       "    </tr>\n",
       "    <tr>\n",
       "      <th>3</th>\n",
       "      <td>00029502_006.png</td>\n",
       "      <td>Effusion</td>\n",
       "      <td>148.452910</td>\n",
       "      <td>452.943915</td>\n",
       "      <td>256.812698</td>\n",
       "      <td>393.346032</td>\n",
       "    </tr>\n",
       "    <tr>\n",
       "      <th>4</th>\n",
       "      <td>00016705_006.png</td>\n",
       "      <td>Infiltrate</td>\n",
       "      <td>691.200000</td>\n",
       "      <td>308.660156</td>\n",
       "      <td>95.573333</td>\n",
       "      <td>237.795556</td>\n",
       "    </tr>\n",
       "  </tbody>\n",
       "</table>\n",
       "</div>"
      ],
      "text/plain": [
       "        Image Index Finding Label     Bbox [x           y           w  \\\n",
       "0  00021840_016.png    Infiltrate  160.995556  440.642378  268.515556   \n",
       "1  00021364_001.png  Cardiomegaly  335.728814  450.476844  495.728814   \n",
       "2  00018865_008.png  Pneumothorax  209.920000  133.442378  144.497778   \n",
       "3  00029502_006.png      Effusion  148.452910  452.943915  256.812698   \n",
       "4  00016705_006.png    Infiltrate  691.200000  308.660156   95.573333   \n",
       "\n",
       "           h]  \n",
       "0  187.733333  \n",
       "1  305.898305  \n",
       "2   92.160000  \n",
       "3  393.346032  \n",
       "4  237.795556  "
      ]
     },
     "execution_count": 10,
     "metadata": {},
     "output_type": "execute_result"
    }
   ],
   "source": [
    "df_train = pd.read_csv(\"train.csv\")\n",
    "df_train.head()"
   ]
  },
  {
   "cell_type": "code",
   "execution_count": 11,
   "metadata": {},
   "outputs": [
    {
     "name": "stdout",
     "output_type": "stream",
     "text": [
      "size of the training dataset (836, 6)\n"
     ]
    }
   ],
   "source": [
    "print(\"size of the training dataset\", df_train.shape)"
   ]
  },
  {
   "cell_type": "markdown",
   "metadata": {},
   "source": [
    "# Histogram of labels\n"
   ]
  },
  {
   "cell_type": "code",
   "execution_count": 12,
   "metadata": {},
   "outputs": [
    {
     "data": {
      "image/png": "[encoded data removed]",
      "text/plain": [
       "<Figure size 1000x600 with 1 Axes>"
      ]
     },
     "metadata": {},
     "output_type": "display_data"
    }
   ],
   "source": [
    "from collections import Counter\n",
    "\n",
    "label_counts = Counter([label for label in df_train[\"Finding Label\"]])\n",
    "\n",
    "plt.figure(figsize=(10, 6))\n",
    "plt.bar(label_counts.keys(), label_counts.values(), color=\"skyblue\")\n",
    "plt.xlabel(\"Labels\")\n",
    "plt.ylabel(\"Count\")\n",
    "plt.title(\"Histogram of Labels\")\n",
    "plt.xticks(rotation=90)\n",
    "plt.tight_layout()\n",
    "plt.show()\n"
   ]
  },
  {
   "cell_type": "markdown",
   "metadata": {},
   "source": [
    "# Histogram of Number of annotations\n"
   ]
  },
  {
   "cell_type": "code",
   "execution_count": null,
   "metadata": {},
   "outputs": [
    {
     "data": {
      "image/png": "[encoded data removed]",
      "text/plain": [
       "<Figure size 1000x600 with 1 Axes>"
      ]
     },
     "metadata": {},
     "output_type": "display_data"
    }
   ],
   "source": [
    "df_labels = pd.read_csv(\n",
    "    \"data/ID_to_Image_Mapping.csv\"\n",
    ")  # colonnes: id, image_id\n",
    "df_annots = pd.read_csv(\n",
    "    \"train.csv\"\n",
    ")  # colonnes: Image Index, Finding Label, x, y, w, h\n",
    "\n",
    "# Convertir labels multi-classes par image\n",
    "df_grouped = (\n",
    "    df_annots.groupby(\"Image Index\")[\"Finding Label\"].apply(set).reset_index()\n",
    ")\n",
    "df = df_labels.merge(\n",
    "    df_grouped, left_on=\"image_id\", right_on=\"Image Index\", how=\"left\"\n",
    ")\n",
    "df[\"Finding Label\"] = df[\"Finding Label\"].apply(\n",
    "    lambda x: x if isinstance(x, set) else set()\n",
    ")\n",
    "\n",
    "# Plot the number of annotations per image\n",
    "df[\"num_labels\"] = df[\"Finding Label\"].apply(len)\n",
    "val_counts = df[\"num_labels\"].value_counts().sort_index()\n",
    "\n",
    "\n",
    "plt.figure(figsize=(10, 6))\n",
    "plt.bar(val_counts.index.astype(str), val_counts.values, color=\"skyblue\")\n",
    "plt.xlabel(\"Number of Labels per Image\")\n",
    "plt.ylabel(\"Number of Images\")\n",
    "plt.title(\"Histogram of Annotations per Image\")\n",
    "plt.xticks(rotation=0)\n",
    "plt.tight_layout()\n",
    "plt.show()"
   ]
  },
  {
   "cell_type": "code",
   "execution_count": null,
   "metadata": {},
   "outputs": [
    {
     "name": "stdout",
     "output_type": "stream",
     "text": [
      "      id          image_id       Image Index Finding Label  num_labels\n",
      "0      1  00000865_006.png               NaN            {}           0\n",
      "1      2  00028383_002.png  00028383_002.png  {Infiltrate}           1\n",
      "2      3  00027577_003.png               NaN            {}           0\n",
      "3      4  00000468_033.png               NaN            {}           0\n",
      "4      5  00013922_021.png               NaN            {}           0\n",
      "..   ...               ...               ...           ...         ...\n",
      "143  144  00022416_048.png               NaN            {}           0\n",
      "144  145  00011502_001.png               NaN            {}           0\n",
      "145  146  00014976_003.png               NaN            {}           0\n",
      "146  147  00012261_001.png  00012261_001.png   {Pneumonia}           1\n",
      "147  148  00015078_013.png               NaN            {}           0\n",
      "\n",
      "[148 rows x 5 columns]\n"
     ]
    }
   ],
   "source": [
    "print(df)"
   ]
  }
 ],
 "metadata": {
  "kernelspec": {
   "display_name": "chestxrayannotations",
   "language": "python",
   "name": "python3"
  },
  "language_info": {
   "codemirror_mode": {
    "name": "ipython",
    "version": 3
   },
   "file_extension": ".py",
   "mimetype": "text/x-python",
   "name": "python",
   "nbconvert_exporter": "python",
   "pygments_lexer": "ipython3",
   "version": "3.11.10"
  }
 },
 "nbformat": 4,
 "nbformat_minor": 2
}
